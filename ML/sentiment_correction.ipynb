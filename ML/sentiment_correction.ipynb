{
 "cells": [
  {
   "cell_type": "code",
   "execution_count": 17,
   "metadata": {
    "collapsed": true
   },
   "outputs": [],
   "source": [
    "import pandas as pd\n",
    "\n",
    "# import data\n",
    "path_data_train = \"/Users/jerome/Documents/level_up/ML/data/sentiment_train.csv\"\n",
    "train = pd.DataFrame.from_csv(path_data_train, encoding = \"ISO-8859-1\", index_col = None)\n",
    "path_data_test = \"/Users/jerome/Documents/level_up/ML/data/sentiment_test.csv\"\n",
    "test = pd.DataFrame.from_csv(path_data_test, encoding = \"ISO-8859-1\", index_col = None)\n",
    "\n",
    "SEED = 42"
   ]
  },
  {
   "cell_type": "code",
   "execution_count": 18,
   "metadata": {
    "collapsed": false
   },
   "outputs": [
    {
     "name": "stdout",
     "output_type": "stream",
     "text": [
      "(22633, 3614)\n",
      "(4748, 3614)\n"
     ]
    }
   ],
   "source": [
    "# extract data\n",
    "\n",
    "texts_train = train['tweet'].fillna(\"\").values\n",
    "labels_train = train['sentiment'].values\n",
    "\n",
    "texts_test = test['tweet'].fillna(\"\").values\n",
    "labels_test = test['sentiment'].values\n",
    "\n",
    "from nltk.stem import SnowballStemmer\n",
    "from nltk import RegexpTokenizer\n",
    "from sklearn.feature_extraction.text import TfidfVectorizer\n",
    "import re\n",
    "\n",
    "stemmer = SnowballStemmer(\"english\")\n",
    "\n",
    "# preprocess a word\n",
    "# either a numeric, a username, or a stemmed word\n",
    "def preprocessingWord(word):\n",
    "    if re.search('^\\d+$', word):\n",
    "        return \"_numeric_\"\n",
    "    elif re.search(\"^@\", word):\n",
    "        return \"_username_\"\n",
    "    else:\n",
    "        return stemmer.stem(word)\n",
    "\n",
    "tokenizer = RegexpTokenizer('@?\\w+', flags = re.UNICODE, gaps = False)\n",
    "\n",
    "# preprocessing done on the sentence when use in tf-idf\n",
    "def preprocessingTweet(tweet):\n",
    "    tweet = re.sub(\"https?://[^ ]+\", \"\", tweet) # remove url\n",
    "    return \" \".join([preprocessingWord(word) for word in tokenizer.tokenize(tweet)])\n",
    "\n",
    "# we keep only the words with more than 5 occurences\n",
    "tfidf = TfidfVectorizer(min_df=5,\n",
    "                        preprocessor=preprocessingTweet)\n",
    "\n",
    "X_train = tfidf.fit_transform(texts_train)\n",
    "print(X_train.shape)\n",
    "X_test = tfidf.transform(texts_test)\n",
    "print(X_test.shape)"
   ]
  },
  {
   "cell_type": "code",
   "execution_count": 19,
   "metadata": {
    "collapsed": false
   },
   "outputs": [
    {
     "name": "stdout",
     "output_type": "stream",
     "text": [
      "Fitting 3 folds for each of 4 candidates, totalling 12 fits\n",
      "[CV] C=0.01 ..........................................................\n",
      "[CV] ........................................... C=0.01, total=   0.2s\n",
      "[CV] C=0.01 ..........................................................\n"
     ]
    },
    {
     "name": "stderr",
     "output_type": "stream",
     "text": [
      "[Parallel(n_jobs=1)]: Done   1 out of   1 | elapsed:    0.2s remaining:    0.0s\n"
     ]
    },
    {
     "name": "stdout",
     "output_type": "stream",
     "text": [
      "[CV] ........................................... C=0.01, total=   0.1s\n",
      "[CV] C=0.01 ..........................................................\n",
      "[CV] ........................................... C=0.01, total=   0.1s\n",
      "[CV] C=0.1 ...........................................................\n",
      "[CV] ............................................ C=0.1, total=   0.2s\n",
      "[CV] C=0.1 ...........................................................\n",
      "[CV] ............................................ C=0.1, total=   0.2s\n",
      "[CV] C=0.1 ...........................................................\n",
      "[CV] ............................................ C=0.1, total=   0.2s\n",
      "[CV] C=1 .............................................................\n",
      "[CV] .............................................. C=1, total=   0.4s\n",
      "[CV] C=1 .............................................................\n",
      "[CV] .............................................. C=1, total=   0.4s\n",
      "[CV] C=1 .............................................................\n",
      "[CV] .............................................. C=1, total=   0.3s\n",
      "[CV] C=10 ............................................................\n",
      "[CV] ............................................. C=10, total=   0.5s\n",
      "[CV] C=10 ............................................................\n",
      "[CV] ............................................. C=10, total=   0.7s\n",
      "[CV] C=10 ............................................................\n",
      "[CV] ............................................. C=10, total=   0.7s\n"
     ]
    },
    {
     "name": "stderr",
     "output_type": "stream",
     "text": [
      "[Parallel(n_jobs=1)]: Done  12 out of  12 | elapsed:    4.2s finished\n"
     ]
    },
    {
     "name": "stdout",
     "output_type": "stream",
     "text": [
      "\n",
      "the best score is of 0.7481553483851014 for the follwing parameters {'C': 1}\n",
      "\n",
      "             precision    recall  f1-score   support\n",
      "\n",
      "   negative       0.80      0.84      0.82      1643\n",
      "    neutral       0.72      0.80      0.76      2063\n",
      "   positive       0.71      0.49      0.58      1042\n",
      "\n",
      "avg / total       0.75      0.75      0.74      4748\n",
      "\n",
      "[[1382  213   48]\n",
      " [ 244 1659  160]\n",
      " [ 109  421  512]]\n",
      "\n",
      "the accuracy on the test set is of 0.7483150800336984\n"
     ]
    }
   ],
   "source": [
    "from sklearn.linear_model import LogisticRegression\n",
    "from sklearn.model_selection import KFold\n",
    "from sklearn.model_selection import GridSearchCV\n",
    "\n",
    "logistic = LogisticRegression(random_state=SEED)\n",
    "kfold = KFold(n_splits=3, shuffle=True, random_state=SEED)\n",
    "\n",
    "parameters = {'C': [0.01, 0.1, 1, 10]}\n",
    "scoring = \"accuracy\"\n",
    "\n",
    "cross = GridSearchCV(logistic, parameters, \n",
    "                     scoring=scoring,\n",
    "                     cv=kfold, \n",
    "                     verbose=2\n",
    "                    )\n",
    "\n",
    "cross.fit(X_train, labels_train)\n",
    "print(\"\\nthe best score is of {} for the follwing parameters {}\\n\".format(cross.best_score_, cross.best_params_))\n",
    "\n",
    "y_pred = cross.predict(X_test)\n",
    "\n",
    "from sklearn.metrics import classification_report\n",
    "from sklearn.metrics import confusion_matrix\n",
    "from sklearn.metrics import accuracy_score\n",
    "\n",
    "print(classification_report(labels_test, y_pred))\n",
    "print(confusion_matrix(labels_test, y_pred))\n",
    "print(\"\\nthe accuracy on the test set is of {}\".format(accuracy_score(labels_test, y_pred)))"
   ]
  },
  {
   "cell_type": "code",
   "execution_count": 20,
   "metadata": {
    "collapsed": false
   },
   "outputs": [
    {
     "name": "stdout",
     "output_type": "stream",
     "text": [
      "Fitting 3 folds for each of 6 candidates, totalling 18 fits\n",
      "[CV] alpha=0 .........................................................\n",
      "[CV] .......................................... alpha=0, total=   0.1s\n",
      "[CV] alpha=0 .........................................................\n",
      "[CV] .......................................... alpha=0, total=   0.1s\n",
      "[CV] alpha=0 .........................................................\n"
     ]
    },
    {
     "name": "stderr",
     "output_type": "stream",
     "text": [
      "[Parallel(n_jobs=1)]: Done   1 out of   1 | elapsed:    0.1s remaining:    0.0s\n"
     ]
    },
    {
     "name": "stdout",
     "output_type": "stream",
     "text": [
      "[CV] .......................................... alpha=0, total=   0.1s\n",
      "[CV] alpha=0.2 .......................................................\n",
      "[CV] ........................................ alpha=0.2, total=   0.1s\n",
      "[CV] alpha=0.2 .......................................................\n",
      "[CV] ........................................ alpha=0.2, total=   0.1s\n",
      "[CV] alpha=0.2 .......................................................\n",
      "[CV] ........................................ alpha=0.2, total=   0.1s\n",
      "[CV] alpha=0.4 .......................................................\n",
      "[CV] ........................................ alpha=0.4, total=   0.1s\n",
      "[CV] alpha=0.4 .......................................................\n",
      "[CV] ........................................ alpha=0.4, total=   0.1s\n",
      "[CV] alpha=0.4 .......................................................\n",
      "[CV] ........................................ alpha=0.4, total=   0.1s\n",
      "[CV] alpha=0.6 .......................................................\n",
      "[CV] ........................................ alpha=0.6, total=   0.1s\n",
      "[CV] alpha=0.6 .......................................................\n",
      "[CV] ........................................ alpha=0.6, total=   0.1s\n",
      "[CV] alpha=0.6 .......................................................\n",
      "[CV] ........................................ alpha=0.6, total=   0.1s\n",
      "[CV] alpha=0.8 .......................................................\n",
      "[CV] ........................................ alpha=0.8, total=   0.1s\n",
      "[CV] alpha=0.8 .......................................................\n",
      "[CV] ........................................ alpha=0.8, total=   0.1s\n",
      "[CV] alpha=0.8 .......................................................\n",
      "[CV] ........................................ alpha=0.8, total=   0.1s\n",
      "[CV] alpha=1 .........................................................\n",
      "[CV] .......................................... alpha=1, total=   0.1s\n",
      "[CV] alpha=1 .........................................................\n",
      "[CV] .......................................... alpha=1, total=   0.1s\n",
      "[CV] alpha=1 .........................................................\n",
      "[CV] .......................................... alpha=1, total=   0.0s\n",
      "\n",
      "the best score is of 0.7080369372155702 for the following parameters {'alpha': 0.6}\n",
      "\n",
      "             precision    recall  f1-score   support\n",
      "\n",
      "   negative       0.73      0.86      0.79      1643\n",
      "    neutral       0.74      0.67      0.70      2063\n",
      "   positive       0.59      0.54      0.57      1042\n",
      "\n",
      "avg / total       0.70      0.71      0.70      4748\n",
      "\n",
      "[[1407  156   80]\n",
      " [ 367 1380  316]\n",
      " [ 141  334  567]]\n",
      "\n",
      "The accuracy on the test set is of 0.706402695871946\n"
     ]
    },
    {
     "name": "stderr",
     "output_type": "stream",
     "text": [
      "[Parallel(n_jobs=1)]: Done  18 out of  18 | elapsed:    1.6s finished\n"
     ]
    }
   ],
   "source": [
    "from sklearn.feature_extraction.text import CountVectorizer\n",
    "from sklearn.naive_bayes import MultinomialNB\n",
    "\n",
    "count = CountVectorizer(\n",
    "            min_df=5,\n",
    "            preprocessor=lambda tweet: preprocessingTweet(tweet))\n",
    "\n",
    "X_train_count = count.fit_transform(texts_train)\n",
    "X_test_count = count.transform(texts_test)\n",
    "\n",
    "multinomial = MultinomialNB()\n",
    "\n",
    "parameters = {'alpha': [0, 0.2, 0.4, 0.6, 0.8, 1]}\n",
    "\n",
    "cross = GridSearchCV(multinomial, parameters, \n",
    "                     scoring=scoring,\n",
    "                     cv=kfold, \n",
    "                     verbose=2\n",
    "                    )\n",
    "\n",
    "cross.fit(X_train_count, labels_train)\n",
    "\n",
    "print(\"\\nthe best score is of {} for the following parameters {}\\n\".format(cross.best_score_, cross.best_params_))\n",
    "\n",
    "y_pred = cross.predict(X_test_count)\n",
    "\n",
    "print(classification_report(labels_test, y_pred))\n",
    "print(confusion_matrix(labels_test, y_pred))\n",
    "print(\"\\nThe accuracy on the test set is of {}\".format(accuracy_score(labels_test, y_pred)))"
   ]
  },
  {
   "cell_type": "code",
   "execution_count": 21,
   "metadata": {
    "collapsed": false
   },
   "outputs": [
    {
     "name": "stdout",
     "output_type": "stream",
     "text": [
      "Fitting 3 folds for each of 18 candidates, totalling 54 fits\n",
      "[CV] vect__ngram_range=(1, 1), vect__min_df=1, clf__C=0.1 ............\n",
      "[CV] vect__ngram_range=(1, 1), vect__min_df=1, clf__C=0.1 ............\n",
      "[CV] vect__ngram_range=(1, 1), vect__min_df=1, clf__C=0.1 ............\n",
      "[CV] vect__ngram_range=(1, 2), vect__min_df=1, clf__C=0.1 ............\n",
      "[CV]  vect__ngram_range=(1, 1), vect__min_df=1, clf__C=0.1, total=   1.9s\n",
      "[CV] vect__ngram_range=(1, 2), vect__min_df=1, clf__C=0.1 ............\n",
      "[CV]  vect__ngram_range=(1, 1), vect__min_df=1, clf__C=0.1, total=   1.9s\n",
      "[CV]  vect__ngram_range=(1, 1), vect__min_df=1, clf__C=0.1, total=   1.9s\n",
      "[CV] vect__ngram_range=(1, 2), vect__min_df=1, clf__C=0.1 ............\n",
      "[CV] vect__ngram_range=(1, 1), vect__min_df=5, clf__C=0.1 ............\n",
      "[CV]  vect__ngram_range=(1, 1), vect__min_df=5, clf__C=0.1, total=   1.5s\n",
      "[CV] vect__ngram_range=(1, 1), vect__min_df=5, clf__C=0.1 ............\n",
      "[CV]  vect__ngram_range=(1, 2), vect__min_df=1, clf__C=0.1, total=   5.1s\n",
      "[CV] vect__ngram_range=(1, 1), vect__min_df=5, clf__C=0.1 ............\n",
      "[CV]  vect__ngram_range=(1, 1), vect__min_df=5, clf__C=0.1, total=   2.0s\n",
      "[CV] vect__ngram_range=(1, 2), vect__min_df=5, clf__C=0.1 ............\n",
      "[CV]  vect__ngram_range=(1, 1), vect__min_df=5, clf__C=0.1, total=   1.9s\n",
      "[CV] vect__ngram_range=(1, 2), vect__min_df=5, clf__C=0.1 ............\n",
      "[CV]  vect__ngram_range=(1, 2), vect__min_df=1, clf__C=0.1, total=   6.0s\n",
      "[CV] vect__ngram_range=(1, 2), vect__min_df=5, clf__C=0.1 ............\n",
      "[CV]  vect__ngram_range=(1, 2), vect__min_df=1, clf__C=0.1, total=   6.0s\n",
      "[CV] vect__ngram_range=(1, 1), vect__min_df=10, clf__C=0.1 ...........\n",
      "[CV]  vect__ngram_range=(1, 1), vect__min_df=10, clf__C=0.1, total=   2.0s\n",
      "[CV] vect__ngram_range=(1, 1), vect__min_df=10, clf__C=0.1 ...........\n",
      "[CV]  vect__ngram_range=(1, 2), vect__min_df=5, clf__C=0.1, total=   5.6s\n",
      "[CV] vect__ngram_range=(1, 1), vect__min_df=10, clf__C=0.1 ...........\n",
      "[CV]  vect__ngram_range=(1, 1), vect__min_df=10, clf__C=0.1, total=   1.6s\n",
      "[CV] vect__ngram_range=(1, 2), vect__min_df=10, clf__C=0.1 ...........\n",
      "[CV]  vect__ngram_range=(1, 2), vect__min_df=5, clf__C=0.1, total=   5.1s\n",
      "[CV] vect__ngram_range=(1, 2), vect__min_df=10, clf__C=0.1 ...........\n",
      "[CV]  vect__ngram_range=(1, 2), vect__min_df=5, clf__C=0.1, total=   4.8s\n",
      "[CV] vect__ngram_range=(1, 2), vect__min_df=10, clf__C=0.1 ...........\n",
      "[CV]  vect__ngram_range=(1, 1), vect__min_df=10, clf__C=0.1, total=   1.8s\n",
      "[CV] vect__ngram_range=(1, 1), vect__min_df=1, clf__C=1 ..............\n",
      "[CV]  vect__ngram_range=(1, 1), vect__min_df=1, clf__C=1, total=   2.6s\n",
      "[CV] vect__ngram_range=(1, 1), vect__min_df=1, clf__C=1 ..............\n",
      "[CV]  vect__ngram_range=(1, 2), vect__min_df=10, clf__C=0.1, total=   5.5s\n",
      "[CV] vect__ngram_range=(1, 1), vect__min_df=1, clf__C=1 ..............\n",
      "[CV]  vect__ngram_range=(1, 2), vect__min_df=10, clf__C=0.1, total=   5.6s\n",
      "[CV] vect__ngram_range=(1, 2), vect__min_df=1, clf__C=1 ..............\n",
      "[CV]  vect__ngram_range=(1, 2), vect__min_df=10, clf__C=0.1, total=   5.6s\n",
      "[CV] vect__ngram_range=(1, 2), vect__min_df=1, clf__C=1 ..............\n",
      "[CV]  vect__ngram_range=(1, 1), vect__min_df=1, clf__C=1, total=   2.2s\n",
      "[CV] vect__ngram_range=(1, 2), vect__min_df=1, clf__C=1 ..............\n",
      "[CV]  vect__ngram_range=(1, 1), vect__min_df=1, clf__C=1, total=   2.3s\n",
      "[CV] vect__ngram_range=(1, 1), vect__min_df=5, clf__C=1 ..............\n",
      "[CV]  vect__ngram_range=(1, 1), vect__min_df=5, clf__C=1, total=   2.2s\n",
      "[CV] vect__ngram_range=(1, 1), vect__min_df=5, clf__C=1 ..............\n",
      "[CV]  vect__ngram_range=(1, 1), vect__min_df=5, clf__C=1, total=   1.6s\n",
      "[CV] vect__ngram_range=(1, 1), vect__min_df=5, clf__C=1 ..............\n",
      "[CV]  vect__ngram_range=(1, 2), vect__min_df=1, clf__C=1, total=   6.7s\n",
      "[CV] vect__ngram_range=(1, 2), vect__min_df=5, clf__C=1 ..............\n",
      "[CV]  vect__ngram_range=(1, 2), vect__min_df=1, clf__C=1, total=   6.5s\n",
      "[CV] vect__ngram_range=(1, 2), vect__min_df=5, clf__C=1 ..............\n",
      "[CV]  vect__ngram_range=(1, 2), vect__min_df=1, clf__C=1, total=   6.4s\n",
      "[CV] vect__ngram_range=(1, 2), vect__min_df=5, clf__C=1 ..............\n",
      "[CV]  vect__ngram_range=(1, 1), vect__min_df=5, clf__C=1, total=   1.7s\n",
      "[CV] vect__ngram_range=(1, 1), vect__min_df=10, clf__C=1 .............\n",
      "[CV]  vect__ngram_range=(1, 1), vect__min_df=10, clf__C=1, total=   2.0s\n",
      "[CV] vect__ngram_range=(1, 1), vect__min_df=10, clf__C=1 .............\n",
      "[CV]  vect__ngram_range=(1, 2), vect__min_df=5, clf__C=1, total=   4.5s\n",
      "[CV] vect__ngram_range=(1, 1), vect__min_df=10, clf__C=1 .............\n",
      "[CV]  vect__ngram_range=(1, 2), vect__min_df=5, clf__C=1, total=   4.5s\n",
      "[CV] vect__ngram_range=(1, 2), vect__min_df=10, clf__C=1 .............\n",
      "[CV]  vect__ngram_range=(1, 2), vect__min_df=5, clf__C=1, total=   4.5s\n",
      "[CV] vect__ngram_range=(1, 2), vect__min_df=10, clf__C=1 .............\n",
      "[CV]  vect__ngram_range=(1, 1), vect__min_df=10, clf__C=1, total=   1.9s\n",
      "[CV] vect__ngram_range=(1, 2), vect__min_df=10, clf__C=1 .............\n",
      "[CV]  vect__ngram_range=(1, 1), vect__min_df=10, clf__C=1, total=   1.7s\n",
      "[CV] vect__ngram_range=(1, 1), vect__min_df=1, clf__C=10 .............\n"
     ]
    },
    {
     "name": "stderr",
     "output_type": "stream",
     "text": [
      "[Parallel(n_jobs=-1)]: Done  33 tasks      | elapsed:   44.2s\n"
     ]
    },
    {
     "name": "stdout",
     "output_type": "stream",
     "text": [
      "[CV]  vect__ngram_range=(1, 1), vect__min_df=1, clf__C=10, total=   2.6s\n",
      "[CV] vect__ngram_range=(1, 1), vect__min_df=1, clf__C=10 .............\n",
      "[CV]  vect__ngram_range=(1, 2), vect__min_df=10, clf__C=1, total=   4.4s\n",
      "[CV] vect__ngram_range=(1, 1), vect__min_df=1, clf__C=10 .............\n",
      "[CV]  vect__ngram_range=(1, 2), vect__min_df=10, clf__C=1, total=   4.5s\n",
      "[CV] vect__ngram_range=(1, 2), vect__min_df=1, clf__C=10 .............\n",
      "[CV]  vect__ngram_range=(1, 2), vect__min_df=10, clf__C=1, total=   4.5s\n",
      "[CV] vect__ngram_range=(1, 2), vect__min_df=1, clf__C=10 .............\n",
      "[CV]  vect__ngram_range=(1, 1), vect__min_df=1, clf__C=10, total=   2.8s\n",
      "[CV] vect__ngram_range=(1, 2), vect__min_df=1, clf__C=10 .............\n",
      "[CV]  vect__ngram_range=(1, 1), vect__min_df=1, clf__C=10, total=   2.8s\n",
      "[CV] vect__ngram_range=(1, 1), vect__min_df=5, clf__C=10 .............\n",
      "[CV]  vect__ngram_range=(1, 1), vect__min_df=5, clf__C=10, total=   2.5s\n",
      "[CV] vect__ngram_range=(1, 1), vect__min_df=5, clf__C=10 .............\n",
      "[CV]  vect__ngram_range=(1, 1), vect__min_df=5, clf__C=10, total=   2.5s\n",
      "[CV] vect__ngram_range=(1, 1), vect__min_df=5, clf__C=10 .............\n",
      "[CV]  vect__ngram_range=(1, 2), vect__min_df=1, clf__C=10, total=   8.3s\n",
      "[CV] vect__ngram_range=(1, 2), vect__min_df=5, clf__C=10 .............\n",
      "[CV]  vect__ngram_range=(1, 2), vect__min_df=1, clf__C=10, total=   8.0s\n",
      "[CV] vect__ngram_range=(1, 2), vect__min_df=5, clf__C=10 .............\n",
      "[CV]  vect__ngram_range=(1, 2), vect__min_df=1, clf__C=10, total=   8.1s\n",
      "[CV] vect__ngram_range=(1, 2), vect__min_df=5, clf__C=10 .............\n",
      "[CV]  vect__ngram_range=(1, 1), vect__min_df=5, clf__C=10, total=   2.1s\n",
      "[CV] vect__ngram_range=(1, 1), vect__min_df=10, clf__C=10 ............\n",
      "[CV]  vect__ngram_range=(1, 1), vect__min_df=10, clf__C=10, total=   2.2s\n",
      "[CV] vect__ngram_range=(1, 1), vect__min_df=10, clf__C=10 ............\n",
      "[CV]  vect__ngram_range=(1, 2), vect__min_df=5, clf__C=10, total=   5.0s\n",
      "[CV] vect__ngram_range=(1, 1), vect__min_df=10, clf__C=10 ............\n",
      "[CV]  vect__ngram_range=(1, 2), vect__min_df=5, clf__C=10, total=   4.9s\n",
      "[CV] vect__ngram_range=(1, 2), vect__min_df=10, clf__C=10 ............\n",
      "[CV]  vect__ngram_range=(1, 1), vect__min_df=10, clf__C=10, total=   2.1s\n",
      "[CV] vect__ngram_range=(1, 2), vect__min_df=10, clf__C=10 ............\n",
      "[CV]  vect__ngram_range=(1, 2), vect__min_df=5, clf__C=10, total=   4.9s\n",
      "[CV] vect__ngram_range=(1, 2), vect__min_df=10, clf__C=10 ............\n",
      "[CV]  vect__ngram_range=(1, 1), vect__min_df=10, clf__C=10, total=   2.2s\n",
      "[CV]  vect__ngram_range=(1, 2), vect__min_df=10, clf__C=10, total=   4.3s\n",
      "[CV]  vect__ngram_range=(1, 2), vect__min_df=10, clf__C=10, total=   4.1s\n",
      "[CV]  vect__ngram_range=(1, 2), vect__min_df=10, clf__C=10, total=   4.0s\n"
     ]
    },
    {
     "name": "stderr",
     "output_type": "stream",
     "text": [
      "[Parallel(n_jobs=-1)]: Done  54 out of  54 | elapsed:  1.2min finished\n"
     ]
    },
    {
     "name": "stdout",
     "output_type": "stream",
     "text": [
      "\n",
      "the best score is of 0.7598197322493704 for the following parameters {'vect__ngram_range': (1, 2), 'vect__min_df': 1, 'clf__C': 10}\n",
      "\n",
      "             precision    recall  f1-score   support\n",
      "\n",
      "   negative       0.80      0.87      0.83      1643\n",
      "    neutral       0.77      0.76      0.76      2063\n",
      "   positive       0.69      0.61      0.65      1042\n",
      "\n",
      "avg / total       0.76      0.76      0.76      4748\n",
      "\n",
      "[[1422  174   47]\n",
      " [ 257 1566  240]\n",
      " [  99  304  639]]\n",
      "\n",
      "The accuracy on the test set is of 0.7639005897219882\n"
     ]
    }
   ],
   "source": [
    "from sklearn.pipeline import Pipeline\n",
    "from sklearn.feature_extraction.text import TfidfTransformer\n",
    "\n",
    "pipeline = Pipeline([\n",
    "    ('vect', CountVectorizer()),\n",
    "    ('tfidf', TfidfTransformer()),\n",
    "    ('clf', LogisticRegression()),\n",
    "])\n",
    "\n",
    "parameters = {\n",
    "    'vect__min_df': (1, 5, 10),\n",
    "    'vect__ngram_range': ((1, 1), (1, 2)),  # unigrams or bigrams\n",
    "    'clf__C': (0.1, 1, 10)\n",
    "}\n",
    "\n",
    "grid_search = GridSearchCV(pipeline, parameters, verbose=2, cv=kfold, n_jobs=-1)\n",
    "grid_search.fit(texts_train,labels_train)\n",
    "\n",
    "print(\"\\nthe best score is of {} for the following parameters {}\\n\".format(grid_search.best_score_, grid_search.best_params_))\n",
    "\n",
    "y_pred = grid_search.predict(texts_test)\n",
    "\n",
    "print(classification_report(labels_test, y_pred))\n",
    "print(confusion_matrix(labels_test, y_pred))\n",
    "print(\"\\nThe accuracy on the test set is of {}\".format(accuracy_score(labels_test, y_pred)))"
   ]
  },
  {
   "cell_type": "code",
   "execution_count": null,
   "metadata": {
    "collapsed": true
   },
   "outputs": [],
   "source": []
  }
 ],
 "metadata": {
  "kernelspec": {
   "display_name": "Python 3",
   "language": "python",
   "name": "python3"
  },
  "language_info": {
   "codemirror_mode": {
    "name": "ipython",
    "version": 3
   },
   "file_extension": ".py",
   "mimetype": "text/x-python",
   "name": "python",
   "nbconvert_exporter": "python",
   "pygments_lexer": "ipython3",
   "version": "3.5.1"
  }
 },
 "nbformat": 4,
 "nbformat_minor": 0
}
